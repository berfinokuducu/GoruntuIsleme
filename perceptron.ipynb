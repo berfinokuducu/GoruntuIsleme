{
 "cells": [
  {
   "cell_type": "code",
   "execution_count": 1,
   "metadata": {},
   "outputs": [],
   "source": [
    "import numpy as np\n",
    "\n",
    "class Perceptron(object):\n",
    "    def __init__(self,input_size,lr=1,epochs=10):\n",
    "        self.W=np.zeros(input_size+1)\n",
    "        self.epochs=epochs\n",
    "        self.lr=lr\n",
    "    def activation_fn(self,x):\n",
    "        return 1 if x>=0 else 0\n",
    "    def predict(self,x):\n",
    "        x=np.insert(x,0,1)\n",
    "        z=self.W.dot(x)\n",
    "        a=self.activation_fn(z)\n",
    "        return a\n",
    "    def fit(self, X, d):\n",
    "        for _ in range(self.epochs):\n",
    "            for i in range(d.shape[0]):\n",
    "                y = self.predict(X[i])\n",
    "                e = d[i] - y\n",
    "                self.W = self.W + self.lr * e * np.insert(X[i], 0, 1)"
   ]
  },
  {
   "cell_type": "markdown",
   "metadata": {},
   "source": [
    "### 1.soru:\n",
    "def activation_fn(self,x)-> Aktivasyon işlemini uygular. Gelen x 0'dan büyük veya eşitse 1 küçükse 0 döndürür.\n",
    "\n",
    "def predict(self,x)-> W'nin transpozunu alıyor.Bunu en başına 1 koyduğu x ile çarpıyor ve tek bir değer üretiyor. Daha sonra bunu da activation_fn(self,x)'a gönderiyor.\n",
    "\n",
    "def fit(self, X, d)-> X ve d yi alıp W'yi belirliyor(W'lerin güncellenmesi).Bunu bir epochs ile yapıyor. "
   ]
  },
  {
   "cell_type": "markdown",
   "metadata": {},
   "source": [
    "### 2.soru:"
   ]
  },
  {
   "cell_type": "code",
   "execution_count": 2,
   "metadata": {},
   "outputs": [],
   "source": [
    "perceptron = Perceptron(input_size=2)"
   ]
  },
  {
   "cell_type": "code",
   "execution_count": 3,
   "metadata": {},
   "outputs": [
    {
     "name": "stdout",
     "output_type": "stream",
     "text": [
      "[ 0. -1.  0.]\n"
     ]
    }
   ],
   "source": [
    "#2.Soru\n",
    "X = np.array([\n",
    "        [0, 0],\n",
    "        [0, 1],\n",
    "        [1, 0],\n",
    "        [1, 1]\n",
    "    ])\n",
    "d=np.array([0, 1, 1, 0])\n",
    "perceptron.fit(X, d)\n",
    "print(perceptron.W)\n"
   ]
  },
  {
   "cell_type": "markdown",
   "metadata": {},
   "source": [
    "### 3.soru:\n",
    "Input, yükseklik-genişlik değerleri m,n ise mxnx3 bir veri olur.Bunu vektör olarak düşünüyoruz ve image_1.reshape(mxnx3,1) ile sütun vektör olarak gösteriyoruz. X, 40 imza için her bir sütunda 1 kişiye ait imza resmi olmak üzere (mxnx3,40)'lık bir matris olacaktır, d ise 40 farklı değer olacaktır.\n",
    "\n",
    "### 4.soru:\n",
    "Perceptron için input iki tane bool değerdir.Çıktı ise iki bool input değerine karşılık bir sonuç. Ancak imza olayında input (mxnx3,40) lık bir matris ve çıktı ise 40 farklı değerdir. Perceptron bunu tanıma yeteneğine sahip değildir.\n"
   ]
  },
  {
   "cell_type": "code",
   "execution_count": 18,
   "metadata": {},
   "outputs": [],
   "source": [
    "X = np.array([\n",
    "        [0, 0],\n",
    "        [0, 1],\n",
    "        [1, 0],\n",
    "        [1, 1]\n",
    "    ])"
   ]
  },
  {
   "cell_type": "code",
   "execution_count": 19,
   "metadata": {},
   "outputs": [],
   "source": [
    "d = np.array([0, 0, 0, 1])"
   ]
  },
  {
   "cell_type": "code",
   "execution_count": 21,
   "metadata": {},
   "outputs": [
    {
     "data": {
      "text/plain": [
       "array([0., 0., 0.])"
      ]
     },
     "execution_count": 21,
     "metadata": {},
     "output_type": "execute_result"
    }
   ],
   "source": [
    "perceptron.W"
   ]
  },
  {
   "cell_type": "code",
   "execution_count": 22,
   "metadata": {},
   "outputs": [],
   "source": [
    "perceptron.fit(X, d)"
   ]
  },
  {
   "cell_type": "code",
   "execution_count": 23,
   "metadata": {},
   "outputs": [
    {
     "name": "stdout",
     "output_type": "stream",
     "text": [
      "[-3.  2.  1.]\n"
     ]
    }
   ],
   "source": [
    "print(perceptron.W)"
   ]
  },
  {
   "cell_type": "code",
   "execution_count": 10,
   "metadata": {},
   "outputs": [
    {
     "data": {
      "text/plain": [
       "array([1, 2, 3, 4, 5])"
      ]
     },
     "execution_count": 10,
     "metadata": {},
     "output_type": "execute_result"
    }
   ],
   "source": [
    "mp=Perceptron(5)\n",
    "x=np.asarray([1,2,3,4,5]) #ndarray dim different\n",
    "x"
   ]
  },
  {
   "cell_type": "code",
   "execution_count": 11,
   "metadata": {},
   "outputs": [
    {
     "data": {
      "text/plain": [
       "1"
      ]
     },
     "execution_count": 11,
     "metadata": {},
     "output_type": "execute_result"
    }
   ],
   "source": [
    "mp.predict(x)"
   ]
  },
  {
   "cell_type": "code",
   "execution_count": 6,
   "metadata": {},
   "outputs": [
    {
     "data": {
      "text/plain": [
       "0"
      ]
     },
     "execution_count": 6,
     "metadata": {},
     "output_type": "execute_result"
    }
   ],
   "source": [
    "mp.activation_fn(-10)"
   ]
  },
  {
   "cell_type": "code",
   "execution_count": 3,
   "metadata": {},
   "outputs": [
    {
     "data": {
      "text/plain": [
       "array([0., 0., 0., 0., 0., 0.])"
      ]
     },
     "execution_count": 3,
     "metadata": {},
     "output_type": "execute_result"
    }
   ],
   "source": [
    "mp.W"
   ]
  }
 ],
 "metadata": {
  "kernelspec": {
   "display_name": "Python 3",
   "language": "python",
   "name": "python3"
  },
  "language_info": {
   "codemirror_mode": {
    "name": "ipython",
    "version": 3
   },
   "file_extension": ".py",
   "mimetype": "text/x-python",
   "name": "python",
   "nbconvert_exporter": "python",
   "pygments_lexer": "ipython3",
   "version": "3.8.3"
  }
 },
 "nbformat": 4,
 "nbformat_minor": 4
}
